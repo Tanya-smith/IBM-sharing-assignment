{
  "metadata": {
    "language_info": {
      "codemirror_mode": {
        "name": "python",
        "version": 3
      },
      "file_extension": ".py",
      "mimetype": "text/x-python",
      "name": "python",
      "nbconvert_exporter": "python",
      "pygments_lexer": "ipython3",
      "version": "3.8"
    },
    "kernelspec": {
      "name": "python",
      "display_name": "Pyolite",
      "language": "python"
    }
  },
  "nbformat_minor": 4,
  "nbformat": 4,
  "cells": [
    {
      "cell_type": "markdown",
      "source": "# Elvis Namuru Peer graded assignment",
      "metadata": {
        "tags": []
      }
    },
    {
      "cell_type": "markdown",
      "source": "## Introduction\n\nThis is a Jupyter Notebook that consist of mutiple markdown cell and code cell. This cells outlines Data science languages, Data science library, Data science, arithmetic expression, as well as objectives of this course.\n\nAt the of this notebooks it shows the author's name\n",
      "metadata": {}
    },
    {
      "cell_type": "markdown",
      "source": "## Data science languages\n\n* Python\n- R\n+ SQL",
      "metadata": {}
    },
    {
      "cell_type": "markdown",
      "source": "## Data science library\n\n* Pandas\n- NumPy\n+ Matplotlib",
      "metadata": {}
    },
    {
      "cell_type": "markdown",
      "source": "## A table showing Data Science Tools\n\n| Tools                        | Example                        |Description          |\n| ---------------------------- |:------------------------------:|--------------------:|\n| Languages                    | Python                         |                     |\n|                              | R language                     |                     |\n|                              | c++                            |                     |\n|                              | Java                           |                     |\n|                              | Scal                           |                     |\n| Open source tools            | MySQL                          |For Data management  |\n|                              | PostgreSQL                     |For Data management  |\n|                              | Apache AirFlow                 |                     |\n|                              | Apache Nifi                    |for virtual editing  |\n|                              | Apache SparkSQL                |                     |\n|                              | Jupyter                        |                     |\n|                              | R Studio                       |                     |\n|                              | GitHub                         |                     |\n| Cormmecial source tools      | Oracle database                |For Data management  |\n|                              | Microsoft SQL                  |For Data management  |\n|                              | Waston Studio Desktop          |For Data management  |\n| Cloud based source tools     | Waston Studio                  |For Data management  |\n| Libraries                    | Pandas                         |Python libraries     |\n|                              | NumPy                          |For visualisation    |\n|                              | SciPy                          |For visualisation    |\n| APIs                         | REST                           |                     |\n| Data sets                    | MNIST                          |                     |\n| Models                       | Machine leaning models         |                     |\n|                              | Deep leaning models            |                     |\n| Other tools                  | IBM Waston Knowledge catalog   |                     |\n|                              | Data refinery                  |                     |\n|                              | SPSS modeler flow              |                     |\n|                              | SPSS modeler                   |                     |\n|                              | SPSS Statistcis                |                     |\n\n\n\n\n",
      "metadata": {}
    },
    {
      "cell_type": "markdown",
      "source": "## Arithmetic Expression\n\n**Below are examples of arithmetic expression**\n\n",
      "metadata": {}
    },
    {
      "cell_type": "markdown",
      "source": "### Multipling and adding numbers",
      "metadata": {}
    },
    {
      "cell_type": "code",
      "source": "num = 30\nnum2 = 40\nnum3 = 100\nresult = 0\nresult = (num * num2) + num3\n\nprint (result)",
      "metadata": {
        "trusted": true
      },
      "execution_count": 6,
      "outputs": [
        {
          "name": "stdout",
          "text": "1300\n",
          "output_type": "stream"
        }
      ]
    },
    {
      "cell_type": "markdown",
      "source": "### Converting minutes to hours",
      "metadata": {}
    },
    {
      "cell_type": "code",
      "source": "num_of_minutes = 300\nhrs = 60\n\nnum_of_hrs = num_of_minutes / hrs\n\nprint (num_of_hrs)",
      "metadata": {
        "trusted": true
      },
      "execution_count": 5,
      "outputs": [
        {
          "name": "stdout",
          "text": "5.0\n",
          "output_type": "stream"
        }
      ]
    },
    {
      "cell_type": "markdown",
      "source": "## Objectives\n\n**Learning Objectives of Data science Toolkit**\n\n* Cite popular open source, commercial, and cloud-based tools used by data scientists.\n* Explain the function of an API and list some common API-related terms.\n* Discuss the characteristics of a dataset and the ways data can be structured.\n* Identify  some of the libraries used in data science and the types of functionalities a library can provide.\n* Compare and contrast between machine learning, deep learning and their use cases.\n* Discuss the different classes of machine learning models.\n* Summarize the advantages of using a pre-trained model as opposed to training a model from scratch.\n* Identify the languages, tools, and data used by data scientists.\n* Access and explore data sets in the Data Asset Exchange (DAX).\n* Examine deep learning models on the Model Asset Exchange (MAX) and interact with an image-detection deep learning model.\n\n**Learning Objectives of Open source tool**\n\n* Describe the fundamentals of Jupyter Notebooks and the JupyterLab platform and why they are popular for data science projects.\n* Cite some examples of how Jupyter is used in data science for recording experiments and projects.\n* Use Jupyter notebooks to experiment with code cells, create data visualization slides, and reporting results using Markdown.\n* Create a Jupyter notebook with Python and use it to run code, change kernels, and save your work.\n* Define the R programming language and discuss its application in data science.\n* Use RStudio packages to experiment with plotting.\n* Explain versioning, branching and why they’re vital to the software development process.\n* Create, edit. and upload new files in GitHub.\n* Use GitHub to create a branch, commit changes, and initiate a pull request.\n\n**Learning Objectives of IBM Data science tools**\n\n* Define the Watson Studio.\n* Explain how Watson Studio can streamline data projects and make them easier to manage.\n* List some of the primary assets included in Watson Studio.\n* Create a project in Watson Studio and add an interactive Jupyter workbook to work with a real data set. Link GitHub to Watson Studio and    explain when to use public vs. private repositories.\n* Describe other tools essential to data science and their applications.\n* Describe Data Refinery and how it benefits the data scientists who use it.\n* Describe the IBM SSPS Modeler, its usage, and some of the capabilities it offers.\n* Load and run a sample project in Watson Studio and examine the results.\n* Use Watson Studio to run an autonumeric model, examine the results and get predictions for new use cases.\n* Describe the use case for the IBM SPSS Modeler and list a few of its main features.\n* Summarize the characteristics of the IBM SPSS Statistics software application and its use by data scientists.\n* Explain how models are deployed into production environments.\n* Summarize how Auto AI in Watson Studio benefits organizations who lack a fully staffed data science team.\n* List the features included with IBM Watson and explain how it ensures fairness and explainability of model drift.\n\n",
      "metadata": {}
    },
    {
      "cell_type": "markdown",
      "source": "## Authors's Name\n\n**ELVIS NAMURU** ",
      "metadata": {}
    },
    {
      "cell_type": "code",
      "source": "",
      "metadata": {},
      "execution_count": null,
      "outputs": []
    }
  ]
}