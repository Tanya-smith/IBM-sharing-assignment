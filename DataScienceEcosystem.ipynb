{
  "metadata": {
    "language_info": {
      "codemirror_mode": {
        "name": "python",
        "version": 3
      },
      "file_extension": ".py",
      "mimetype": "text/x-python",
      "name": "python",
      "nbconvert_exporter": "python",
      "pygments_lexer": "ipython3",
      "version": "3.8"
    },
    "kernelspec": {
      "name": "python",
      "display_name": "Pyolite",
      "language": "python"
    }
  },
  "nbformat_minor": 4,
  "nbformat": 4,
  "cells": [
    {
      "cell_type": "markdown",
      "source": "<center>\n    <img src=\"https://cf-courses-data.s3.us.cloud-object-storage.appdomain.cloud/IBMDeveloperSkillsNetwork-DS0105EN-SkillsNetwork/labs/Module2/images/SN_web_lightmode.png\" width=\"300\" alt=\"cognitiveclass.ai logo\">\n</center>",
      "metadata": {}
    },
    {
      "cell_type": "markdown",
      "source": "# Data Science Tools and Ecosystem",
      "metadata": {
        "tags": []
      }
    },
    {
      "cell_type": "markdown",
      "source": "## Introduction\n\nThis is a Jupyter Notebook that consist of mutiple markdown cell and code cell. This cells outlines Data science languages, Data science library, Data science, arithmetic expression, as well as objectives of this course.\n\nAt the end of this notebooks it shows the author's name\n",
      "metadata": {}
    },
    {
      "cell_type": "markdown",
      "source": "## Listing Objectives\n\n**Objectives:**\n\n* List popular languages for Data Science\n* List popular library for Data Science\n* Create table showing Data Science tools\n* Show examples of arithmetic expression\n* Write author's name",
      "metadata": {}
    },
    {
      "cell_type": "markdown",
      "source": "## Data science languages\n\n**Some of the popular languages that Data Scientists use are:**\n\n1. Python\n2. R\n3. SQL",
      "metadata": {}
    },
    {
      "cell_type": "markdown",
      "source": "## Data science library\n\n**Some of the commonly used libraries used by Data Scientists include:**\n\n1. Pandas\n2. NumPy\n3. Matplotlib",
      "metadata": {}
    },
    {
      "cell_type": "markdown",
      "source": "## A table showing Data Science Tools\n\n| Data Science Tools           | \n| ---------------------------- |\n| GitHub                       | \n| R Studio                     | \n| Jupyter                      | ",
      "metadata": {}
    },
    {
      "cell_type": "markdown",
      "source": "## Arithmetic Expression\n\n**Below are a few examples of evaluating arithmetic expressions in Python**\n\n",
      "metadata": {}
    },
    {
      "cell_type": "code",
      "source": "#This a simple arithmetic expression to mutiply then add integers\n\n(3*4)+5",
      "metadata": {
        "trusted": true
      },
      "execution_count": 2,
      "outputs": [
        {
          "execution_count": 2,
          "output_type": "execute_result",
          "data": {
            "text/plain": "17"
          },
          "metadata": {}
        }
      ]
    },
    {
      "cell_type": "code",
      "source": "#This will convert 200 minutes to hours by diving by 60\n\nnum_of_minutes = 200\nhr = 60 #minutes\n\nnum_of_hrs = num_of_minutes / hr\n\nprint (num_of_hrs)",
      "metadata": {
        "trusted": true
      },
      "execution_count": 3,
      "outputs": [
        {
          "name": "stdout",
          "text": "3.3333333333333335\n",
          "output_type": "stream"
        }
      ]
    },
    {
      "cell_type": "markdown",
      "source": "## Author\n\nELVIS NAMURU",
      "metadata": {}
    }
  ]
}